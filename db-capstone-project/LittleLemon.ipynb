{
 "cells": [
  {
   "cell_type": "code",
   "execution_count": 56,
   "id": "91f8b114-6a4a-40e2-af2d-895368a38aac",
   "metadata": {},
   "outputs": [],
   "source": [
    "#!pip install mysql-connector-python\n",
    "import mysql.connector as connector"
   ]
  },
  {
   "cell_type": "code",
   "execution_count": 58,
   "id": "4265429e-4725-414c-8943-0930d979ca4b",
   "metadata": {},
   "outputs": [],
   "source": [
    "# Establish connection between Python and MySQL database via connector API\n",
    "connection=connector.connect(user=\"myabdula\", password= \"P@ssw0rd\")"
   ]
  },
  {
   "cell_type": "code",
   "execution_count": 60,
   "id": "3db37610-a2af-4f98-9bbc-d2cb7a2cd90a",
   "metadata": {},
   "outputs": [
    {
     "name": "stdout",
     "output_type": "stream",
     "text": [
      "Cursor is created to communicate with the MySQL using Python.\n",
      "\n"
     ]
    }
   ],
   "source": [
    "# Create cursor object to communicate with entire MySQL database\n",
    "cursor = connection.cursor()\n",
    "\n",
    "print(\"Cursor is created to communicate with the MySQL using Python.\\n\")"
   ]
  },
  {
   "cell_type": "code",
   "execution_count": 62,
   "id": "71f95c3d-a450-46fc-ba27-d125eec8785e",
   "metadata": {},
   "outputs": [
    {
     "name": "stdout",
     "output_type": "stream",
     "text": [
      "The database little lemon is set for use.\n",
      "\n"
     ]
    }
   ],
   "source": [
    "# Set little_lemon database for use \n",
    "cursor.execute(\"USE littlelemondb\")\n",
    "\n",
    "print(\"The database little lemon is set for use.\\n\")"
   ]
  },
  {
   "cell_type": "code",
   "execution_count": 64,
   "id": "9ebbd559-477f-4ef8-9149-ae9825cbfde3",
   "metadata": {},
   "outputs": [
    {
     "name": "stdout",
     "output_type": "stream",
     "text": [
      "The database \"little lemon\" is ready for use.\n"
     ]
    }
   ],
   "source": [
    "print(\"\"\"The database \"little lemon\" is ready for use.\"\"\")"
   ]
  },
  {
   "cell_type": "code",
   "execution_count": 70,
   "id": "46426d2c-80a1-4959-933d-db87a5c02fcb",
   "metadata": {},
   "outputs": [
    {
     "data": {
      "text/plain": [
       "[('bookings',),\n",
       " ('customers',),\n",
       " ('menus',),\n",
       " ('orderdelivery',),\n",
       " ('orders',),\n",
       " ('staff',),\n",
       " ('yusha',)]"
      ]
     },
     "execution_count": 70,
     "metadata": {},
     "output_type": "execute_result"
    }
   ],
   "source": [
    "show_tables_query = \"\"\"SHOW tables\"\"\"\n",
    "cursor.execute(show_tables_query)\n",
    "cursor.fetchall()"
   ]
  },
  {
   "cell_type": "code",
   "execution_count": 101,
   "id": "513ffcdc-f505-4d2c-8910-40f0539c0d22",
   "metadata": {},
   "outputs": [
    {
     "name": "stdout",
     "output_type": "stream",
     "text": [
      "('Shelly Morrison', 'taguilar@roman.com', '1284991214', 'Billy Bridge', 'Riveraburgh', 'Georgia', 'Trinidad and Tobago', Decimal('72.26'))\n",
      "('Sarah Jacobson', 'shannon51@yahoo.com', '3631883398', 'Matthews Isle', 'East Allen', 'Louisiana', 'Brazil', Decimal('341.63'))\n",
      "('William Turner', 'emccarthy@gregory.net', '8567710966', 'Chen Brooks', 'West Nicoleton', 'Alabama', 'Equatorial Guinea', Decimal('415.23'))\n",
      "('Jennifer Miller', 'hmarsh@yahoo.com', '2490581366', 'Joshua Brook', 'North Jamieview', 'Oklahoma', 'Germany', Decimal('248.69'))\n",
      "('Jasmine Roman', 'lauragonzales@gmail.com', '2667940236', 'Cynthia Ways', 'West Brian', 'South Dakota', 'Philippines', Decimal('251.35'))\n",
      "('Bradley Brady', 'zsmith@stone.org', '6228064161', 'Micheal Green', 'South James', 'Delaware', 'Bahrain', Decimal('86.97'))\n",
      "('Ian Arroyo', 'paul61@wheeler.com', '1687537412', 'Dana Lane', 'Johnsonshire', 'Nebraska', 'Sierra Leone', Decimal('333.73'))\n",
      "('John Castro', 'crystal63@yahoo.com', '7449181851', 'Pearson Circle', 'Evansfort', 'Arkansas', 'Tuvalu', Decimal('356.27'))\n",
      "('Victoria Patel', 'corey15@castro-gomez.com', '4921352636', 'Ramos Pike', 'Bryanside', 'Alabama', 'Bermuda', Decimal('129.14'))\n",
      "('John Castro', 'crystal63@yahoo.com', '7449181851', 'Pearson Circle', 'Evansfort', 'Arkansas', 'Tuvalu', Decimal('72.95'))\n",
      "('Amber Griffin', 'seandyer@hotmail.com', '5462085263', 'Collins Mountain', 'Port Mackenziechester', 'Illinois', 'Mayotte', Decimal('115.81'))\n",
      "('Eric Carter Jr.', 'tamaramorrison@hotmail.com', '6530445838', 'Caitlyn Lights', 'Barbaraport', 'Idaho', 'Comoros', Decimal('241.53'))\n",
      "('Gregory Roberts', 'brycepatterson@arellano.net', '4957348140', 'Lee Rest', 'New Nicolemouth', 'Massachusetts', 'Martinique', Decimal('147.74'))\n",
      "('Jacqueline Jackson', 'garciadustin@hotmail.com', '1939625287', 'Anthony Roads', 'New Maria', 'Delaware', 'India', Decimal('66.82'))\n",
      "('Dominic Maddox', 'emilywarner@hotmail.com', '2211898446', 'Calvin Inlet', 'Jesusfort', 'Maine', 'Mozambique', Decimal('126.24'))\n",
      "('Jon Kim', 'hstevens@gmail.com', '1349941026', 'Margaret Drives', 'Hensonborough', 'New Hampshire', 'New Caledonia', Decimal('80.98'))\n",
      "('Ian Arroyo', 'paul61@wheeler.com', '1687537412', 'Dana Lane', 'Johnsonshire', 'Nebraska', 'Sierra Leone', Decimal('172.96'))\n",
      "('Roy Wilson', 'susanlopez@mendoza.com', '9687785011', 'Oliver Village', 'Chadland', 'Tennessee', 'Gabon', Decimal('279.62'))\n",
      "('Norma Fisher', 'ysullivan@yahoo.com', '9451636615', 'Silva Forge', 'West Donald', 'Connecticut', 'Nicaragua', Decimal('364.04'))\n",
      "('Jessica Wright', 'sharon25@yahoo.com', '5666479384', 'Kenneth Village', 'Montgomerytown', 'Indiana', 'French Southern Territories', Decimal('134.93'))\n",
      "('Frederick Johnson', 'miguelclark@reed.com', '8988615110', 'Olson Well', 'North Kevin', 'Oklahoma', 'Barbados', Decimal('120.91'))\n",
      "('Jennifer Summers', 'vclayton@cross.com', '3437440079', 'Linda Divide', 'Davismouth', 'North Carolina', 'Venezuela', Decimal('66.41'))\n",
      "('David Cruz', 'glester@flowers.info', '2325853208', 'Angela Estates', 'Lambfort', 'Ohio', 'Germany', Decimal('194.74'))\n",
      "('Jon Kim', 'hstevens@gmail.com', '1349941026', 'Margaret Drives', 'Hensonborough', 'New Hampshire', 'New Caledonia', Decimal('476.11'))\n",
      "('Leslie Salazar', 'robert08@hotmail.com', '9306794659', 'Henry Squares', 'Lewisview', 'Arizona', 'Aruba', Decimal('148.81'))\n",
      "('Miss Angela Swanson DVM', 'nstewart@gmail.com', '1419980565', 'Charlene Flat', 'Joshuaburgh', 'Connecticut', 'Lebanon', Decimal('63.09'))\n",
      "('Leslie Salazar', 'robert08@hotmail.com', '9306794659', 'Henry Squares', 'Lewisview', 'Arizona', 'Aruba', Decimal('295.73'))\n",
      "('Jeffery Fischer', 'haleyjohn@gmail.com', '9036281722', 'Flores Mews', 'New Rachelside', 'Illinois', 'Rwanda', Decimal('317.99'))\n",
      "('Jeremy Jacobs', 'jesse19@hotmail.com', '1424775559', 'Wright Haven', 'Lake Amandachester', 'Arkansas', 'British Virgin Islands', Decimal('100.16'))\n",
      "('Justin Olson', 'david17@yahoo.com', '5457421776', 'Navarro Drives', 'Lake Anne', 'South Dakota', 'Benin', Decimal('229.93'))\n",
      "('Jamie Smith', 'sharris@yahoo.com', '5761466328', 'Angela Spurs', 'Port Jacqueline', 'Montana', 'Colombia', Decimal('389.97'))\n",
      "('Jennifer Summers', 'vclayton@cross.com', '3437440079', 'Linda Divide', 'Davismouth', 'North Carolina', 'Venezuela', Decimal('114.26'))\n",
      "('Edward Giles', 'brittanymiller@hotmail.com', '7789696413', 'Nicholas Drive', 'Port Jeffrey', 'North Carolina', 'Ecuador', Decimal('107.68'))\n",
      "('Leslie Salazar', 'robert08@hotmail.com', '9306794659', 'Henry Squares', 'Lewisview', 'Arizona', 'Aruba', Decimal('197.63'))\n",
      "('Norma Fisher', 'ysullivan@yahoo.com', '9451636615', 'Silva Forge', 'West Donald', 'Connecticut', 'Nicaragua', Decimal('325.43'))\n",
      "('Miss Angela Swanson DVM', 'nstewart@gmail.com', '1419980565', 'Charlene Flat', 'Joshuaburgh', 'Connecticut', 'Lebanon', Decimal('342.17'))\n"
     ]
    }
   ],
   "source": [
    "customer_query = \"\"\"\n",
    "SELECT customers.FullName, customers.Email, customers.ContactNumber, customers.Streat, customers.City, customers.State, customers.Country, orders.TotalCost\n",
    "FROM customers\n",
    "JOIN orders ON customers.CustomerID = orders.CustomerID\n",
    "WHERE orders.TotalCost > 60;\n",
    "\"\"\"\n",
    "cursor.execute(customer_query)\n",
    "dataset = cursor.fetchall()\n",
    "\n",
    "for data in dataset:\n",
    "    print(data)"
   ]
  },
  {
   "cell_type": "code",
   "execution_count": 44,
   "id": "c1dbf6f6-74aa-49f3-b225-0792e12fa1ee",
   "metadata": {},
   "outputs": [],
   "source": [
    "from mysql.connector.pooling import MySQLConnectionPool\n",
    "from mysql.connector import Error"
   ]
  },
  {
   "cell_type": "code",
   "execution_count": 107,
   "id": "144db984-8148-4543-a3a3-2634f97520b1",
   "metadata": {},
   "outputs": [
    {
     "name": "stdout",
     "output_type": "stream",
     "text": [
      "Note: you may need to restart the kernel to use updated packages.\n"
     ]
    },
    {
     "name": "stderr",
     "output_type": "stream",
     "text": [
      "ERROR: unknown command \"python3\"\n",
      "\n"
     ]
    }
   ],
   "source": [
    "python3 --version"
   ]
  },
  {
   "cell_type": "code",
   "execution_count": null,
   "id": "89bc8f04-1dde-4562-a45c-2d2345953666",
   "metadata": {},
   "outputs": [],
   "source": []
  },
  {
   "cell_type": "code",
   "execution_count": 46,
   "id": "b243fc65-4bc9-439e-8b07-ce7386403acb",
   "metadata": {},
   "outputs": [
    {
     "name": "stdout",
     "output_type": "stream",
     "text": [
      "Task 1\n"
     ]
    }
   ],
   "source": [
    "print(\"Task 1\")"
   ]
  },
  {
   "cell_type": "code",
   "execution_count": 48,
   "id": "33ef9069-fd86-4455-8a9a-19b30c5c7ebd",
   "metadata": {},
   "outputs": [],
   "source": [
    "dbconfig={\"database\":\"little_lemon\", \"user\":\"myabdula\", \"password\":\"P@ssw0rd\"}"
   ]
  },
  {
   "cell_type": "code",
   "execution_count": null,
   "id": "f420bed4-9154-4234-9424-81fc200c31bc",
   "metadata": {},
   "outputs": [],
   "source": []
  },
  {
   "cell_type": "code",
   "execution_count": 51,
   "id": "1c6d7b07-eb41-472f-89fe-fd48f170b613",
   "metadata": {},
   "outputs": [],
   "source": [
    "# Our stored procedure query is\n",
    "peak_query=\"\"\"\n",
    "CREATE PROCEDURE peakHours()\n",
    "\n",
    "BEGIN\n",
    "    SELECT HOUR(bookings.BookingSlot) AS booking_hour, COUNT(*) AS total_bookings\n",
    "    FROM bookings\n",
    "    GROUP BY booking_hour\n",
    "    ORDER BY total_bookings DESC;\n",
    "\n",
    "END\n",
    "\"\"\""
   ]
  },
  {
   "cell_type": "code",
   "execution_count": 57,
   "id": "8187fa5e-8516-4e51-b053-1c51b66e498d",
   "metadata": {},
   "outputs": [],
   "source": [
    "#cursor.execute(\"\"\"DROP PROCEDURE peakHours;\"\"\")\n",
    "cursor.execute(peak_query)"
   ]
  },
  {
   "cell_type": "code",
   "execution_count": 59,
   "id": "432296ab-11e3-41e2-bdd1-ff9835301a1c",
   "metadata": {},
   "outputs": [
    {
     "data": {
      "text/plain": [
       "()"
      ]
     },
     "execution_count": 59,
     "metadata": {},
     "output_type": "execute_result"
    }
   ],
   "source": [
    "# Call the stored procedure with its name\n",
    "cursor.callproc(\"peakHours\")"
   ]
  },
  {
   "cell_type": "code",
   "execution_count": 61,
   "id": "a6549514-1e7c-4414-9750-295e5680ef09",
   "metadata": {},
   "outputs": [
    {
     "name": "stderr",
     "output_type": "stream",
     "text": [
      "C:\\Users\\Yushawu\\AppData\\Local\\Temp\\ipykernel_1800\\2681277526.py:1: DeprecationWarning: Call to deprecated function stored_results. Reason: The property counterpart 'stored_results' will be added in a future release, and this method will be removed.\n",
      "  results10 = next(cursor.stored_results())\n"
     ]
    }
   ],
   "source": [
    "results10 = next(cursor.stored_results())\n",
    "dataset10 = results10.fetchall()"
   ]
  },
  {
   "cell_type": "code",
   "execution_count": 63,
   "id": "12a37de2-5e97-42c8-a6b7-b2f9cf159f1d",
   "metadata": {},
   "outputs": [
    {
     "name": "stdout",
     "output_type": "stream",
     "text": [
      "(19, 20)\n",
      "(18, 8)\n",
      "(15, 1)\n",
      "(17, 1)\n",
      "(20, 1)\n"
     ]
    }
   ],
   "source": [
    "for data in dataset10:\n",
    "    print(data)"
   ]
  },
  {
   "cell_type": "code",
   "execution_count": 65,
   "id": "824f32d4-14eb-45e5-b2b1-eccda288c3f4",
   "metadata": {},
   "outputs": [],
   "source": [
    "# Task 3"
   ]
  },
  {
   "cell_type": "code",
   "execution_count": 67,
   "id": "d1842c8a-cbb3-4050-98d6-bbdce35f65a2",
   "metadata": {},
   "outputs": [],
   "source": [
    "guest_status_sp = \"\"\"\n",
    "CREATE PROCEDURE GuestStatus()\n",
    "BEGIN\n",
    "    SELECT\n",
    "        CONCAT(bookings.GuestFirstName, ' ', bookings.GuestLastName) AS GuestName,\n",
    "        CASE\n",
    "            WHEN employees.Role IN ('Manager', 'Assistant Manager') THEN 'Ready to pay'\n",
    "            WHEN employees.Role = 'Head Chef'                     THEN 'Ready to serve'\n",
    "            WHEN employees.Role = 'Assistant Chef'                THEN 'Preparing Order'\n",
    "            WHEN employees.Role = 'Head Waiter'                   THEN 'Order served'\n",
    "            ELSE 'Pending'\n",
    "        END                                  AS OrderStatus,\n",
    "        bookings.BookingSlot\n",
    "    FROM   Bookings \n",
    "    LEFT JOIN employees ON employees.EmployeeID = employees.EmployeeID\n",
    "    ORDER BY GuestName;\n",
    "END\n",
    "\"\"\""
   ]
  },
  {
   "cell_type": "code",
   "execution_count": 69,
   "id": "ffc17231-6ada-4cde-ae7f-704e2eab0dbf",
   "metadata": {},
   "outputs": [],
   "source": [
    "#cursor.execute(\"\"\"DROP PROCEDURE GuestStatus;\"\"\")\n",
    "cursor.execute(guest_status_sp)"
   ]
  },
  {
   "cell_type": "code",
   "execution_count": 71,
   "id": "c6f6b847-dfea-4456-92a1-d681bcf4430d",
   "metadata": {},
   "outputs": [
    {
     "data": {
      "text/plain": [
       "()"
      ]
     },
     "execution_count": 71,
     "metadata": {},
     "output_type": "execute_result"
    }
   ],
   "source": [
    "# Call the stored procedure with its name\n",
    "cursor.callproc(\"GuestStatus\")"
   ]
  },
  {
   "cell_type": "code",
   "execution_count": 73,
   "id": "f5ebb578-f691-4597-8777-5b045acbaec7",
   "metadata": {},
   "outputs": [
    {
     "name": "stderr",
     "output_type": "stream",
     "text": [
      "C:\\Users\\Yushawu\\AppData\\Local\\Temp\\ipykernel_1800\\2178112201.py:2: DeprecationWarning: Call to deprecated function stored_results. Reason: The property counterpart 'stored_results' will be added in a future release, and this method will be removed.\n",
      "  results5 = next(cursor.stored_results())\n"
     ]
    }
   ],
   "source": [
    "# Retrieve recrods in \"dataset\"\n",
    "results5 = next(cursor.stored_results())\n",
    "dataset5 = results5.fetchall()"
   ]
  },
  {
   "cell_type": "code",
   "execution_count": 75,
   "id": "cdc7f385-14d3-4997-b4f8-0348504aacd4",
   "metadata": {},
   "outputs": [
    {
     "name": "stdout",
     "output_type": "stream",
     "text": [
      "('Anees Java', 'Ready to pay', datetime.timedelta(seconds=64800))\n",
      "('Anees Java', 'Ready to pay', datetime.timedelta(seconds=64800))\n",
      "('Anees Java', 'Pending', datetime.timedelta(seconds=64800))\n",
      "('Anees Java', 'Order served', datetime.timedelta(seconds=64800))\n",
      "('Anees Java', 'Preparing Order', datetime.timedelta(seconds=64800))\n",
      "('Anees Java', 'Ready to serve', datetime.timedelta(seconds=64800))\n",
      "('Anees Java', 'Ready to pay', datetime.timedelta(seconds=64800))\n",
      "('Anees Java', 'Ready to pay', datetime.timedelta(seconds=64800))\n",
      "('Anees Java', 'Order served', datetime.timedelta(seconds=64800))\n",
      "('Anees Java', 'Preparing Order', datetime.timedelta(seconds=64800))\n",
      "('Anees Java', 'Ready to serve', datetime.timedelta(seconds=64800))\n",
      "('Anees Java', 'Ready to pay', datetime.timedelta(seconds=64800))\n",
      "('Anees Java', 'Pending', datetime.timedelta(seconds=64800))\n",
      "('Anees Java', 'Order served', datetime.timedelta(seconds=64800))\n",
      "('Anees Java', 'Preparing Order', datetime.timedelta(seconds=64800))\n",
      "('Anees Java', 'Ready to serve', datetime.timedelta(seconds=64800))\n",
      "('Anees Java', 'Ready to pay', datetime.timedelta(seconds=64800))\n",
      "('Anees Java', 'Ready to pay', datetime.timedelta(seconds=64800))\n",
      "('Anees Java', 'Ready to pay', datetime.timedelta(seconds=64800))\n",
      "('Anees Java', 'Pending', datetime.timedelta(seconds=64800))\n",
      "('Anees Java', 'Order served', datetime.timedelta(seconds=64800))\n",
      "('Anees Java', 'Preparing Order', datetime.timedelta(seconds=64800))\n",
      "('Anees Java', 'Pending', datetime.timedelta(seconds=64800))\n",
      "('Anees Java', 'Preparing Order', datetime.timedelta(seconds=64800))\n",
      "('Anees Java', 'Ready to pay', datetime.timedelta(seconds=64800))\n",
      "('Anees Java', 'Ready to pay', datetime.timedelta(seconds=64800))\n",
      "('Anees Java', 'Pending', datetime.timedelta(seconds=64800))\n",
      "('Anees Java', 'Order served', datetime.timedelta(seconds=64800))\n",
      "('Anees Java', 'Ready to serve', datetime.timedelta(seconds=64800))\n",
      "('Anees Java', 'Ready to serve', datetime.timedelta(seconds=64800))\n",
      "('Anees Java', 'Ready to pay', datetime.timedelta(seconds=64800))\n",
      "('Anees Java', 'Pending', datetime.timedelta(seconds=64800))\n",
      "('Anees Java', 'Order served', datetime.timedelta(seconds=64800))\n",
      "('Anees Java', 'Preparing Order', datetime.timedelta(seconds=64800))\n",
      "('Anees Java', 'Ready to serve', datetime.timedelta(seconds=64800))\n",
      "('Anees Java', 'Ready to pay', datetime.timedelta(seconds=64800))\n",
      "('Anees Java', 'Pending', datetime.timedelta(seconds=64800))\n",
      "('Anees Java', 'Order served', datetime.timedelta(seconds=64800))\n",
      "('Anees Java', 'Preparing Order', datetime.timedelta(seconds=64800))\n",
      "('Anees Java', 'Ready to serve', datetime.timedelta(seconds=64800))\n",
      "('Anees Java', 'Ready to pay', datetime.timedelta(seconds=64800))\n",
      "('Anees Java', 'Ready to pay', datetime.timedelta(seconds=64800))\n",
      "('Anna Iversen', 'Pending', datetime.timedelta(seconds=68400))\n",
      "('Anna Iversen', 'Order served', datetime.timedelta(seconds=68400))\n",
      "('Anna Iversen', 'Preparing Order', datetime.timedelta(seconds=68400))\n",
      "('Anna Iversen', 'Ready to serve', datetime.timedelta(seconds=68400))\n",
      "('Anna Iversen', 'Ready to pay', datetime.timedelta(seconds=68400))\n",
      "('Anna Iversen', 'Ready to pay', datetime.timedelta(seconds=68400))\n",
      "('Bald Vin', 'Ready to pay', datetime.timedelta(seconds=68400))\n",
      "('Bald Vin', 'Ready to pay', datetime.timedelta(seconds=68400))\n",
      "('Bald Vin', 'Ready to pay', datetime.timedelta(seconds=68400))\n",
      "('Bald Vin', 'Ready to serve', datetime.timedelta(seconds=68400))\n",
      "('Bald Vin', 'Preparing Order', datetime.timedelta(seconds=68400))\n",
      "('Bald Vin', 'Order served', datetime.timedelta(seconds=68400))\n",
      "('Bald Vin', 'Pending', datetime.timedelta(seconds=68400))\n",
      "('Bald Vin', 'Ready to pay', datetime.timedelta(seconds=68400))\n",
      "('Bald Vin', 'Ready to pay', datetime.timedelta(seconds=68400))\n",
      "('Bald Vin', 'Ready to pay', datetime.timedelta(seconds=68400))\n",
      "('Bald Vin', 'Ready to serve', datetime.timedelta(seconds=68400))\n",
      "('Bald Vin', 'Preparing Order', datetime.timedelta(seconds=68400))\n",
      "('Bald Vin', 'Order served', datetime.timedelta(seconds=68400))\n",
      "('Bald Vin', 'Order served', datetime.timedelta(seconds=68400))\n",
      "('Bald Vin', 'Pending', datetime.timedelta(seconds=68400))\n",
      "('Bald Vin', 'Ready to pay', datetime.timedelta(seconds=68400))\n",
      "('Bald Vin', 'Ready to serve', datetime.timedelta(seconds=68400))\n",
      "('Bald Vin', 'Preparing Order', datetime.timedelta(seconds=68400))\n",
      "('Bald Vin', 'Pending', datetime.timedelta(seconds=68400))\n",
      "('Bald Vin', 'Order served', datetime.timedelta(seconds=68400))\n",
      "('Bald Vin', 'Preparing Order', datetime.timedelta(seconds=68400))\n",
      "('Bald Vin', 'Ready to serve', datetime.timedelta(seconds=68400))\n",
      "('Bald Vin', 'Ready to pay', datetime.timedelta(seconds=68400))\n",
      "('Bald Vin', 'Ready to pay', datetime.timedelta(seconds=68400))\n",
      "('Bald Vin', 'Ready to pay', datetime.timedelta(seconds=68400))\n",
      "('Bald Vin', 'Pending', datetime.timedelta(seconds=68400))\n",
      "('Bald Vin', 'Preparing Order', datetime.timedelta(seconds=68400))\n",
      "('Bald Vin', 'Ready to serve', datetime.timedelta(seconds=68400))\n",
      "('Bald Vin', 'Order served', datetime.timedelta(seconds=68400))\n",
      "('Bald Vin', 'Ready to pay', datetime.timedelta(seconds=68400))\n",
      "('Bald Vin', 'Pending', datetime.timedelta(seconds=68400))\n",
      "('Bald Vin', 'Ready to serve', datetime.timedelta(seconds=68400))\n",
      "('Bald Vin', 'Ready to pay', datetime.timedelta(seconds=68400))\n",
      "('Bald Vin', 'Ready to pay', datetime.timedelta(seconds=68400))\n",
      "('Bald Vin', 'Pending', datetime.timedelta(seconds=68400))\n",
      "('Bald Vin', 'Order served', datetime.timedelta(seconds=68400))\n",
      "('Bald Vin', 'Pending', datetime.timedelta(seconds=68400))\n",
      "('Bald Vin', 'Order served', datetime.timedelta(seconds=68400))\n",
      "('Bald Vin', 'Preparing Order', datetime.timedelta(seconds=68400))\n",
      "('Bald Vin', 'Ready to serve', datetime.timedelta(seconds=68400))\n",
      "('Bald Vin', 'Ready to pay', datetime.timedelta(seconds=68400))\n",
      "('Bald Vin', 'Preparing Order', datetime.timedelta(seconds=68400))\n",
      "('Diana Pinto', 'Pending', datetime.timedelta(seconds=72000))\n",
      "('Diana Pinto', 'Ready to pay', datetime.timedelta(seconds=72000))\n",
      "('Diana Pinto', 'Ready to pay', datetime.timedelta(seconds=72000))\n",
      "('Diana Pinto', 'Preparing Order', datetime.timedelta(seconds=72000))\n",
      "('Diana Pinto', 'Ready to serve', datetime.timedelta(seconds=72000))\n",
      "('Diana Pinto', 'Order served', datetime.timedelta(seconds=72000))\n",
      "('Hiroki Yamane', 'Order served', datetime.timedelta(seconds=66600))\n",
      "('Hiroki Yamane', 'Preparing Order', datetime.timedelta(seconds=66600))\n",
      "('Hiroki Yamane', 'Ready to serve', datetime.timedelta(seconds=66600))\n",
      "('Hiroki Yamane', 'Ready to pay', datetime.timedelta(seconds=66600))\n",
      "('Hiroki Yamane', 'Ready to pay', datetime.timedelta(seconds=66600))\n",
      "('Hiroki Yamane', 'Pending', datetime.timedelta(seconds=66600))\n",
      "('Jay Kon', 'Pending', datetime.timedelta(seconds=70200))\n",
      "('Jay Kon', 'Preparing Order', datetime.timedelta(seconds=70200))\n",
      "('Jay Kon', 'Ready to serve', datetime.timedelta(seconds=70200))\n",
      "('Jay Kon', 'Ready to pay', datetime.timedelta(seconds=70200))\n",
      "('Jay Kon', 'Pending', datetime.timedelta(seconds=70200))\n",
      "('Jay Kon', 'Order served', datetime.timedelta(seconds=70200))\n",
      "('Jay Kon', 'Preparing Order', datetime.timedelta(seconds=70200))\n",
      "('Jay Kon', 'Ready to serve', datetime.timedelta(seconds=70200))\n",
      "('Jay Kon', 'Ready to pay', datetime.timedelta(seconds=70200))\n",
      "('Jay Kon', 'Ready to pay', datetime.timedelta(seconds=70200))\n",
      "('Jay Kon', 'Ready to pay', datetime.timedelta(seconds=70200))\n",
      "('Jay Kon', 'Ready to pay', datetime.timedelta(seconds=70200))\n",
      "('Jay Kon', 'Order served', datetime.timedelta(seconds=70200))\n",
      "('Jay Kon', 'Ready to pay', datetime.timedelta(seconds=70200))\n",
      "('Jay Kon', 'Pending', datetime.timedelta(seconds=70200))\n",
      "('Jay Kon', 'Order served', datetime.timedelta(seconds=70200))\n",
      "('Jay Kon', 'Preparing Order', datetime.timedelta(seconds=70200))\n",
      "('Jay Kon', 'Ready to serve', datetime.timedelta(seconds=70200))\n",
      "('Jay Kon', 'Ready to pay', datetime.timedelta(seconds=70200))\n",
      "('Jay Kon', 'Ready to pay', datetime.timedelta(seconds=70200))\n",
      "('Jay Kon', 'Pending', datetime.timedelta(seconds=70200))\n",
      "('Jay Kon', 'Order served', datetime.timedelta(seconds=70200))\n",
      "('Jay Kon', 'Preparing Order', datetime.timedelta(seconds=70200))\n",
      "('Jay Kon', 'Ready to serve', datetime.timedelta(seconds=70200))\n",
      "('Jay Kon', 'Ready to pay', datetime.timedelta(seconds=70200))\n",
      "('Jay Kon', 'Ready to pay', datetime.timedelta(seconds=70200))\n",
      "('Jay Kon', 'Pending', datetime.timedelta(seconds=70200))\n",
      "('Jay Kon', 'Order served', datetime.timedelta(seconds=70200))\n",
      "('Jay Kon', 'Preparing Order', datetime.timedelta(seconds=70200))\n",
      "('Jay Kon', 'Ready to serve', datetime.timedelta(seconds=70200))\n",
      "('Jay Kon', 'Ready to pay', datetime.timedelta(seconds=70200))\n",
      "('Jay Kon', 'Pending', datetime.timedelta(seconds=70200))\n",
      "('Jay Kon', 'Order served', datetime.timedelta(seconds=70200))\n",
      "('Jay Kon', 'Preparing Order', datetime.timedelta(seconds=70200))\n",
      "('Jay Kon', 'Ready to serve', datetime.timedelta(seconds=70200))\n",
      "('Jay Kon', 'Ready to pay', datetime.timedelta(seconds=70200))\n",
      "('Jay Kon', 'Ready to pay', datetime.timedelta(seconds=70200))\n",
      "('Jay Kon', 'Pending', datetime.timedelta(seconds=70200))\n",
      "('Jay Kon', 'Order served', datetime.timedelta(seconds=70200))\n",
      "('Jay Kon', 'Preparing Order', datetime.timedelta(seconds=70200))\n",
      "('Jay Kon', 'Ready to serve', datetime.timedelta(seconds=70200))\n",
      "('Jay Kon', 'Ready to pay', datetime.timedelta(seconds=70200))\n",
      "('Jay Kon', 'Ready to pay', datetime.timedelta(seconds=70200))\n",
      "('Jay Kon', 'Ready to pay', datetime.timedelta(seconds=70200))\n",
      "('Jay Kon', 'Pending', datetime.timedelta(seconds=70200))\n",
      "('Jay Kon', 'Order served', datetime.timedelta(seconds=70200))\n",
      "('Jay Kon', 'Preparing Order', datetime.timedelta(seconds=70200))\n",
      "('Jay Kon', 'Ready to serve', datetime.timedelta(seconds=70200))\n",
      "('Jay Kon', 'Pending', datetime.timedelta(seconds=70200))\n",
      "('Jay Kon', 'Order served', datetime.timedelta(seconds=70200))\n",
      "('Jay Kon', 'Preparing Order', datetime.timedelta(seconds=70200))\n",
      "('Jay Kon', 'Ready to serve', datetime.timedelta(seconds=70200))\n",
      "('Jay Kon', 'Ready to pay', datetime.timedelta(seconds=70200))\n",
      "('Jay Kon', 'Ready to pay', datetime.timedelta(seconds=70200))\n",
      "('Jay Kon', 'Pending', datetime.timedelta(seconds=70200))\n",
      "('Jay Kon', 'Order served', datetime.timedelta(seconds=70200))\n",
      "('Jay Kon', 'Preparing Order', datetime.timedelta(seconds=70200))\n",
      "('Jay Kon', 'Ready to serve', datetime.timedelta(seconds=70200))\n",
      "('Jay Kon', 'Ready to pay', datetime.timedelta(seconds=70200))\n",
      "('Jay Kon', 'Ready to pay', datetime.timedelta(seconds=70200))\n",
      "('Jay Kon', 'Pending', datetime.timedelta(seconds=70200))\n",
      "('Jay Kon', 'Order served', datetime.timedelta(seconds=70200))\n",
      "('Jay Kon', 'Preparing Order', datetime.timedelta(seconds=70200))\n",
      "('Jay Kon', 'Ready to serve', datetime.timedelta(seconds=70200))\n",
      "('Jay Kon', 'Ready to pay', datetime.timedelta(seconds=70200))\n",
      "('Jay Kon', 'Ready to pay', datetime.timedelta(seconds=70200))\n",
      "('Joakim Iversen', 'Pending', datetime.timedelta(seconds=68400))\n",
      "('Joakim Iversen', 'Ready to pay', datetime.timedelta(seconds=68400))\n",
      "('Joakim Iversen', 'Ready to pay', datetime.timedelta(seconds=68400))\n",
      "('Joakim Iversen', 'Ready to serve', datetime.timedelta(seconds=68400))\n",
      "('Joakim Iversen', 'Preparing Order', datetime.timedelta(seconds=68400))\n",
      "('Joakim Iversen', 'Order served', datetime.timedelta(seconds=68400))\n",
      "('Marcos Romero', 'Ready to pay', datetime.timedelta(seconds=63000))\n",
      "('Marcos Romero', 'Pending', datetime.timedelta(seconds=63000))\n",
      "('Marcos Romero', 'Ready to pay', datetime.timedelta(seconds=63000))\n",
      "('Marcos Romero', 'Ready to serve', datetime.timedelta(seconds=63000))\n",
      "('Marcos Romero', 'Preparing Order', datetime.timedelta(seconds=63000))\n",
      "('Marcos Romero', 'Order served', datetime.timedelta(seconds=63000))\n",
      "('Vanessa McCarthy', 'Ready to pay', datetime.timedelta(seconds=54000))\n",
      "('Vanessa McCarthy', 'Ready to serve', datetime.timedelta(seconds=54000))\n",
      "('Vanessa McCarthy', 'Preparing Order', datetime.timedelta(seconds=54000))\n",
      "('Vanessa McCarthy', 'Order served', datetime.timedelta(seconds=54000))\n",
      "('Vanessa McCarthy', 'Ready to pay', datetime.timedelta(seconds=54000))\n",
      "('Vanessa McCarthy', 'Pending', datetime.timedelta(seconds=54000))\n"
     ]
    }
   ],
   "source": [
    "for data in dataset5:\n",
    "    print(data)"
   ]
  },
  {
   "cell_type": "code",
   "execution_count": 77,
   "id": "19d484e4-d287-4c94-a204-624e0a53e487",
   "metadata": {},
   "outputs": [],
   "source": [
    "#Little Lemon analysis and sales report"
   ]
  },
  {
   "cell_type": "code",
   "execution_count": 79,
   "id": "3db9a81a-2e5e-4466-9691-a30ad8e2816d",
   "metadata": {},
   "outputs": [],
   "source": [
    "from mysql.connector import Error"
   ]
  },
  {
   "cell_type": "code",
   "execution_count": 81,
   "id": "85434024-2627-4a5c-b624-a6fc2a3726ef",
   "metadata": {},
   "outputs": [
    {
     "name": "stdout",
     "output_type": "stream",
     "text": [
      "The connection pool is created with a name:  pool_b\n",
      "The pool size is: 2\n"
     ]
    }
   ],
   "source": [
    "#Task 1\n",
    "\n",
    "from mysql.connector.pooling import MySQLConnectionPool\n",
    "from mysql.connector import Error\n",
    "\n",
    "dbconfig = {\n",
    "    \"database\":\"little_lemon\",\n",
    "    \"user\" : \"myabdula\",\n",
    "    \"password\" : \"P@ssw0rd\"\n",
    "}\n",
    "\n",
    "try:\n",
    "    pool = MySQLConnectionPool(pool_name = \"pool_b\", pool_size = 2, **dbconfig)\n",
    "    print(\"The connection pool is created with a name: \",pool.pool_name)\n",
    "    print(\"The pool size is:\",pool.pool_size)\n",
    "\n",
    "except Error as er:\n",
    "    print(\"Error code:\", er.errno)\n",
    "    print(\"Error message:\", er.msg)"
   ]
  },
  {
   "cell_type": "code",
   "execution_count": 83,
   "id": "e46bce3c-05ac-41bf-b496-400bc36fe10b",
   "metadata": {},
   "outputs": [
    {
     "name": "stdout",
     "output_type": "stream",
     "text": [
      "The connection pool is created with a name:  pool_b\n",
      "The pool size is: 2\n",
      "Connection pool error: Failed adding connection; queue is full\n"
     ]
    }
   ],
   "source": [
    "#Task 2\n",
    "from mysql.connector.pooling import MySQLConnectionPool\n",
    "from mysql.connector import Error\n",
    "\n",
    "dbconfig = {\n",
    "    \"database\":\"little_lemon\",\n",
    "    \"user\" : \"myabdula\",\n",
    "    \"password\" : \"P@ssw0rd\"\n",
    "}\n",
    "\n",
    "try:\n",
    "    pool_b = MySQLConnectionPool(pool_name = \"pool_b\", pool_size =3, **dbconfig)\n",
    "    print(\"The connection pool is created with a name: \",pool.pool_name)\n",
    "    print(\"The pool size is:\",pool.pool_size)\n",
    "\n",
    "except Error as er:\n",
    "    print(\"Error code:\", er.errno)\n",
    "    print(\"Error message:\", er.msg)\n",
    "\n",
    "try:\n",
    "    conn1 = pool_b.get_connection()\n",
    "    conn2 = pool_b.get_connection()\n",
    "    conn3 = pool_b.get_connection() \n",
    "\n",
    "    cursor1 = conn1.cursor()\n",
    "    cursor2 = conn2.cursor()\n",
    "    cursor3 = conn3.cursor()\n",
    "\n",
    "    insert_query = \"\"\"\n",
    "        INSERT INTO Bookings (TableNo, GuestFirstName, GuestLastName, BookingSlot, EmployeeID)\n",
    "        VALUES (%s, %s, %s, %s, %s)\n",
    "    \"\"\"\n",
    "\n",
    "    guest1 = (8, \"Anees\", \"Java\", \"18:00:00\", 6)\n",
    "    guest2 = (5, \"Bald\", \"Vin\", \"19:00:00\", 6)\n",
    "    guest3 = (12, \"Jay\", \"Kon\", \"19:30:00\", 6)\n",
    "\n",
    "    cursor1.execute(insert_query, guest1)\n",
    "    cursor2.execute(insert_query, guest2)\n",
    "    cursor3.execute(insert_query, guest3)\n",
    "    conn1.commit()\n",
    "    conn2.commit()\n",
    "    conn3.commit()\n",
    "\n",
    "    try:\n",
    "        cursor3.execute(insert_query, guest3)\n",
    "        conn3.commit()\n",
    "    except Error as err:\n",
    "        print(\"Guest 3 Error:\", err)\n",
    "\n",
    "    cursor1.close()\n",
    "    cursor2.close()\n",
    "    cursor3.close()\n",
    "    if conn3.is_connected():\n",
    "        cursor3.close()\n",
    "\n",
    "    conn1.close()\n",
    "    conn2.close()\n",
    "    conn3.close()\n",
    "    try:\n",
    "        conn3.close()  # May raise PoolError\n",
    "    except Error as err:\n",
    "        print(\"Connection pool error:\", err)\n",
    "\n",
    "except Error as err:\n",
    "    print(\"Task 2 Error:\", err)\n"
   ]
  },
  {
   "cell_type": "code",
   "execution_count": 85,
   "id": "76d8b493-3de2-4872-8a54-b1d1045d0621",
   "metadata": {},
   "outputs": [],
   "source": [
    "#Task 3: Reports\n",
    "\n",
    "report = \"\"\"\n",
    "CREATE PROCEDURE Report()\n",
    "BEGIN\n",
    "    SELECT\n",
    "        EmployeeID, Name AS ManagerName FROM employees WHERE Role = \"Manager\";\n",
    "    SELECT\n",
    "        Name AS EmployeeWithHighestSalary, Annual_Salary FROM employees ORDER BY Annual_Salary DESC LIMIT 1;\n",
    "    SELECT\n",
    "        COUNT(*) FROM bookings WHERE BookingSlot BETWEEN '18:00:00' AND '20:00:00';\n",
    "    SELECT\n",
    "        CONCAT(GuestFirstName, ' ', GuestLastName) AS FullName, BookingID \n",
    "        FROM Bookings \n",
    "        WHERE EmployeeID = (SELECT EmployeeID FROM Employees WHERE Role = 'Receptionist') \n",
    "        ORDER BY BookingSlot;\n",
    "        \n",
    "END\n",
    "\"\"\"\n",
    "   \n",
    "        "
   ]
  },
  {
   "cell_type": "code",
   "execution_count": 89,
   "id": "53e96e0e-a0bf-4a6b-b685-fded9fa98d56",
   "metadata": {},
   "outputs": [],
   "source": [
    "#cursor.execute(\"\"\"DROP PROCEDURE Report;\"\"\")\n",
    "cursor.execute(report)"
   ]
  },
  {
   "cell_type": "code",
   "execution_count": 107,
   "id": "63edd8cb-e1fc-4bde-956a-40dbcd3c055a",
   "metadata": {},
   "outputs": [
    {
     "name": "stdout",
     "output_type": "stream",
     "text": [
      "\n",
      "Manager's Name:\n",
      "(1, 'Mario Gollini')\n",
      "\n",
      "Highest Paid Employee:\n",
      "('Mario Gollini', '$70,000')\n",
      "\n",
      "Booking Count (18:00 and 20:00):\n",
      "(33,)\n",
      "\n",
      "Guests Handled by Receptionist:\n",
      "('Anees Java', 7)\n",
      "('Anees Java', 10)\n",
      "('Anees Java', 13)\n",
      "('Anees Java', 16)\n",
      "('Anees Java', 20)\n",
      "('Anees Java', 24)\n",
      "('Anees Java', 28)\n",
      "('Anees Java', 32)\n",
      "('Bald Vin', 8)\n",
      "('Bald Vin', 11)\n",
      "('Bald Vin', 14)\n",
      "('Bald Vin', 17)\n",
      "('Bald Vin', 21)\n",
      "('Bald Vin', 25)\n",
      "('Bald Vin', 29)\n",
      "('Bald Vin', 33)\n",
      "('Jay Kon', 9)\n",
      "('Jay Kon', 12)\n",
      "('Jay Kon', 15)\n",
      "('Jay Kon', 18)\n",
      "('Jay Kon', 19)\n",
      "('Jay Kon', 22)\n",
      "('Jay Kon', 23)\n",
      "('Jay Kon', 26)\n",
      "('Jay Kon', 27)\n",
      "('Jay Kon', 30)\n",
      "('Jay Kon', 31)\n",
      "('Jay Kon', 34)\n",
      "('Jay Kon', 35)\n"
     ]
    },
    {
     "ename": "IndexError",
     "evalue": "list index out of range",
     "output_type": "error",
     "traceback": [
      "\u001b[1;31m---------------------------------------------------------------------------\u001b[0m",
      "\u001b[1;31mIndexError\u001b[0m                                Traceback (most recent call last)",
      "Cell \u001b[1;32mIn[107], line 18\u001b[0m\n\u001b[0;32m     16\u001b[0m \u001b[38;5;28;01mtry\u001b[39;00m:\n\u001b[0;32m     17\u001b[0m     rows \u001b[38;5;241m=\u001b[39m cursor\u001b[38;5;241m.\u001b[39mfetchall()\n\u001b[1;32m---> 18\u001b[0m     \u001b[38;5;28mprint\u001b[39m(\u001b[38;5;124mf\u001b[39m\u001b[38;5;124m\"\u001b[39m\u001b[38;5;130;01m\\n\u001b[39;00m\u001b[38;5;132;01m{\u001b[39;00mlabels[result_number\u001b[38;5;250m \u001b[39m\u001b[38;5;241m-\u001b[39m\u001b[38;5;250m \u001b[39m\u001b[38;5;241m1\u001b[39m]\u001b[38;5;132;01m}\u001b[39;00m\u001b[38;5;124m:\u001b[39m\u001b[38;5;124m\"\u001b[39m)\n\u001b[0;32m     19\u001b[0m     \u001b[38;5;28;01mfor\u001b[39;00m row \u001b[38;5;129;01min\u001b[39;00m rows:\n\u001b[0;32m     20\u001b[0m         \u001b[38;5;28mprint\u001b[39m(row)\n",
      "\u001b[1;31mIndexError\u001b[0m: list index out of range"
     ]
    }
   ],
   "source": [
    "\n",
    "# Execute the stored procedure\n",
    "cursor.execute(\"\"\"CALL Report()\"\"\")\n",
    "\n",
    "labels = [\n",
    "    \"Manager's Name\",\n",
    "    \"Highest Paid Employee\",\n",
    "    \"Booking Count (18:00 and 20:00)\",\n",
    "    \"Guests Handled by Receptionist\"\n",
    "]\n",
    "\n",
    "\n",
    "# Loop through multiple result sets\n",
    "result_number = 1\n",
    "while True:\n",
    "    # Try to fetch all rows from the current result set\n",
    "    try:\n",
    "        rows = cursor.fetchall()\n",
    "        print(f\"\\n{labels[result_number - 1]}:\")\n",
    "        for row in rows:\n",
    "            print(row)\n",
    "        result_number += 1\n",
    "    except connector.errors.InterfaceError:\n",
    "        # This error happens when no result is available — safe to skip\n",
    "        pass\n",
    "\n",
    "    # Move to the next result set\n",
    "    if not cursor.nextset():\n",
    "        break\n",
    "\n",
    "# Cleanup\n",
    "cursor.close()\n",
    "conn.close()\n"
   ]
  },
  {
   "cell_type": "code",
   "execution_count": 129,
   "id": "ffc83f6f-db75-421b-ad21-50e5982bb02d",
   "metadata": {},
   "outputs": [],
   "source": [
    "#Task 4: BasicSalesReport Procedure\n",
    "\n",
    "sales_proc = \"\"\"\n",
    "CREATE PROCEDURE BasicSalesReport()\n",
    "BEGIN\n",
    "    SELECT \n",
    "        SUM(BillAmount) AS TotalSales,\n",
    "        AVG(BillAmount) AS AverageSale,\n",
    "        MIN(BillAmount) AS MinBill,\n",
    "        MAX(BillAmount) AS MaxBill\n",
    "    FROM Orders;\n",
    "END\n",
    "\"\"\""
   ]
  },
  {
   "cell_type": "code",
   "execution_count": 137,
   "id": "1d11c288-c805-4087-8450-062e11f649dd",
   "metadata": {},
   "outputs": [],
   "source": [
    "#cursor.execute(\"\"\"DROP PROCEDURE BasicSalesReport;\"\"\")\n",
    "cursor.execute(sales_proc)"
   ]
  },
  {
   "cell_type": "code",
   "execution_count": 139,
   "id": "fde07528-dc59-4c47-94fd-8ea8d36f9e40",
   "metadata": {},
   "outputs": [
    {
     "data": {
      "text/plain": [
       "()"
      ]
     },
     "execution_count": 139,
     "metadata": {},
     "output_type": "execute_result"
    }
   ],
   "source": [
    " #Call the stored procedure with its name\n",
    "cursor.callproc(\"BasicSalesReport\")"
   ]
  },
  {
   "cell_type": "code",
   "execution_count": 141,
   "id": "127227bd-68a2-4c6e-ae2f-af11728b3c00",
   "metadata": {},
   "outputs": [
    {
     "name": "stderr",
     "output_type": "stream",
     "text": [
      "C:\\Users\\Yushawu\\AppData\\Local\\Temp\\ipykernel_1800\\3406715872.py:2: DeprecationWarning: Call to deprecated function stored_results. Reason: The property counterpart 'stored_results' will be added in a future release, and this method will be removed.\n",
      "  results6 = next(cursor.stored_results())\n"
     ]
    }
   ],
   "source": [
    "# Retrieve recrods in \"dataset\"\n",
    "results6 = next(cursor.stored_results())\n",
    "dataset6 = results6.fetchall()"
   ]
  },
  {
   "cell_type": "code",
   "execution_count": 145,
   "id": "3de95902-c84b-45d3-b558-eaf748e1f16f",
   "metadata": {},
   "outputs": [
    {
     "name": "stdout",
     "output_type": "stream",
     "text": [
      "BasicSalesReport(Total sales, Average sale, Minimum bill paid, and Maximum bill paid \n",
      " (Decimal('243'), Decimal('48.6000'), 37, 86)\n"
     ]
    }
   ],
   "source": [
    "for data in dataset6:\n",
    "    print(\"BasicSalesReport(Total sales, Average sale, Minimum bill paid, and Maximum bill paid \\n\", data)"
   ]
  },
  {
   "cell_type": "code",
   "execution_count": null,
   "id": "9e921d82-14d1-4392-9d0a-b53dff2a1845",
   "metadata": {},
   "outputs": [],
   "source": []
  },
  {
   "cell_type": "code",
   "execution_count": 109,
   "id": "b2376fc1-1994-4f03-884f-54f88e288fbe",
   "metadata": {},
   "outputs": [
    {
     "name": "stdout",
     "output_type": "stream",
     "text": [
      "15:00:00 \n",
      "- Vanessa McCarthy - \n",
      "Assigned to: Giorgos Dioudis [Head Chef]\n",
      "17:30:00 \n",
      "- Marcos Romero - \n",
      "Assigned to: Fatma Kaya [Assistant Chef]\n",
      "18:00:00 \n",
      "- Anees Java - \n",
      "Assigned to: John Millar [Receptionist]\n"
     ]
    }
   ],
   "source": [
    "#Task 5:\n",
    "\n",
    "try:\n",
    "    conn = pool_b.get_connection()\n",
    "    cursor = conn.cursor(buffered=True)\n",
    "\n",
    "    query = \"\"\"\n",
    "    SELECT \n",
    "        bookings.BookingSlot, \n",
    "        CONCAT(bookings.GuestFirstName, ' ', bookings.GuestLastName) AS GuestName, \n",
    "        CONCAT('Assigned to: ', employees.Name, ' [', employees.Role, ']') AS AssignedTo \n",
    "    FROM Bookings\n",
    "    JOIN Employees ON bookings.EmployeeID = employees.EmployeeID\n",
    "    ORDER BY BookingSlot\n",
    "    LIMIT 3\n",
    "    \"\"\"\n",
    "    cursor.execute(query)\n",
    "    results = cursor.fetchall()\n",
    "    for row in results:\n",
    "        print(f\"{row[0]} \\n- {row[1]} - \\n{row[2]}\")\n",
    "\n",
    "    cursor.close()\n",
    "    conn.close()\n",
    "\n",
    "except Error as err:\n",
    "    print(\"Task 5 Error:\", err)"
   ]
  },
  {
   "cell_type": "code",
   "execution_count": null,
   "id": "de4d2d52-5279-49cf-a210-1dd16b8ac5de",
   "metadata": {},
   "outputs": [],
   "source": []
  }
 ],
 "metadata": {
  "kernelspec": {
   "display_name": "Python [conda env:base] *",
   "language": "python",
   "name": "conda-base-py"
  },
  "language_info": {
   "codemirror_mode": {
    "name": "ipython",
    "version": 3
   },
   "file_extension": ".py",
   "mimetype": "text/x-python",
   "name": "python",
   "nbconvert_exporter": "python",
   "pygments_lexer": "ipython3",
   "version": "3.11.7"
  }
 },
 "nbformat": 4,
 "nbformat_minor": 5
}
